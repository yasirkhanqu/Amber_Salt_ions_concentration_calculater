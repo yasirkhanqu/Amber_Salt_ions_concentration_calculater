{
 "cells": [
  {
   "cell_type": "code",
   "execution_count": 3,
   "id": "3c0f50dc-eee7-4d60-ad2c-f79fe7eccc78",
   "metadata": {},
   "outputs": [
    {
     "name": "stdin",
     "output_type": "stream",
     "text": [
      "Enter the number of water molecules (Nw):  31557\n",
      "Enter the salt concentration (Co) in mol/L:  0.15\n",
      "Enter the total charge of the solute (Q):  1\n"
     ]
    },
    {
     "name": "stdout",
     "output_type": "stream",
     "text": [
      "Expected number of ions (No): 84.53\n",
      "Number of N⁺ ions to add: 85\n",
      "Number of N⁻ ions to add: 86\n"
     ]
    }
   ],
   "source": [
    "import math\n",
    "\n",
    "# Function to calculate the number of ions using the SPLIT method\n",
    "def split_method(n_water, salt_concentration, solute_charge):\n",
    "    \"\"\"\n",
    "    Parameters:\n",
    "    n_water (int): Number of water molecules in the box.\n",
    "    salt_concentration (float): Salt concentration (Co) in mol/L.\n",
    "    solute_charge (int): Total charge of the solute (Q).\n",
    "\n",
    "    Returns:\n",
    "    dict: A dictionary with the number of positive (N⁺) and negative (N⁻) ions.\n",
    "    \"\"\"\n",
    "    # Step 1: Calculate the expected number of ions (No)\n",
    "    no = n_water * salt_concentration / 56  # 56 is the conversion factor\n",
    "    if no < abs(solute_charge):\n",
    "        raise ValueError(\"No must be greater than or equal to the absolute value of Q for the method to work.\")\n",
    "\n",
    "    # Step 2: Calculate the number of positive (N⁺) and negative (N⁻) ions\n",
    "    n_positive = math.ceil(no - solute_charge / 2)  # Round up in case of odd Q\n",
    "    n_negative = math.ceil(no + solute_charge / 2)  # Round up in case of odd Q\n",
    "\n",
    "    return {\"N⁺ ions\": n_positive, \"N⁻ ions\": n_negative}\n",
    "\n",
    "# Main function\n",
    "def main():\n",
    "    # Input: Number of water molecules, salt concentration, and solute charge\n",
    "    n_water = int(input(\"Enter the number of water molecules (Nw): \"))\n",
    "    salt_concentration = float(input(\"Enter the salt concentration (Co) in mol/L: \"))\n",
    "    solute_charge = int(input(\"Enter the total charge of the solute (Q): \"))\n",
    "\n",
    "    try:\n",
    "        # Perform calculations\n",
    "        ion_counts = split_method(n_water, salt_concentration, solute_charge)\n",
    "\n",
    "        # Output results\n",
    "        print(f\"Expected number of ions (No): {n_water * salt_concentration / 56:.2f}\")\n",
    "        print(f\"Number of N⁺ ions to add: {ion_counts['N⁺ ions']}\")\n",
    "        print(f\"Number of N⁻ ions to add: {ion_counts['N⁻ ions']}\")\n",
    "    except ValueError as e:\n",
    "        print(f\"Error: {e}\")\n",
    "\n",
    "# Run the program\n",
    "if __name__ == \"__main__\":\n",
    "    main()"
   ]
  },
  {
   "cell_type": "code",
   "execution_count": null,
   "id": "fb918cfb-5e54-4f9c-99fe-bd4a987e224a",
   "metadata": {},
   "outputs": [],
   "source": []
  }
 ],
 "metadata": {
  "kernelspec": {
   "display_name": "Python 3 (ipykernel)",
   "language": "python",
   "name": "python3"
  },
  "language_info": {
   "codemirror_mode": {
    "name": "ipython",
    "version": 3
   },
   "file_extension": ".py",
   "mimetype": "text/x-python",
   "name": "python",
   "nbconvert_exporter": "python",
   "pygments_lexer": "ipython3",
   "version": "3.8.19"
  }
 },
 "nbformat": 4,
 "nbformat_minor": 5
}
