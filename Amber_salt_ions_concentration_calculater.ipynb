{
 "cells": [
  {
   "cell_type": "code",
   "execution_count": 1,
   "id": "303f7126-066e-47a9-8b56-ee5aac4630e4",
   "metadata": {},
   "outputs": [
    {
     "name": "stdin",
     "output_type": "stream",
     "text": [
      "Enter the volume in Å³:  1250548.101\n",
      "Enter the salt concentration in mol/L:  0.15\n"
     ]
    },
    {
     "name": "stdout",
     "output_type": "stream",
     "text": [
      "Volume in liters: 1.250548e-21 L\n",
      "Number of Na⁺ ions: 113\n",
      "Number of Cl⁻ ions: 113\n"
     ]
    }
   ],
   "source": [
    "# Function to convert volume from Å³ to liters\n",
    "def convert_volume_to_liters(volume_angstrom_cubed):\n",
    "    # Conversion factors\n",
    "    angstrom_to_meter = 1e-10  # 1 Å = 1e-10 meters\n",
    "    meter_cubed_to_liters = 1000  # 1 m³ = 1000 liters\n",
    "\n",
    "    # Volume in liters\n",
    "    volume_liters = volume_angstrom_cubed * (angstrom_to_meter**3) * meter_cubed_to_liters\n",
    "    return volume_liters\n",
    "\n",
    "# Function to calculate the number of ions\n",
    "def calculate_ions(volume_liters, salt_concentration_mol_per_liter):\n",
    "    # Avogadro's number\n",
    "    avogadro_number = 6.022e23  # atoms/mol\n",
    "\n",
    "    # Number of ions per liter\n",
    "    ions_per_liter = salt_concentration_mol_per_liter * avogadro_number\n",
    "\n",
    "    # Total number of ions in the given volume\n",
    "    total_ions = volume_liters * ions_per_liter\n",
    "\n",
    "    # Since salt dissociates into Na⁺ and Cl⁻, both will have the same number\n",
    "    num_na_ions = total_ions  # Number of Na⁺ ions\n",
    "    num_cl_ions = total_ions  # Number of Cl⁻ ions\n",
    "\n",
    "    return round(num_na_ions), round(num_cl_ions)\n",
    "\n",
    "# Main function\n",
    "def main():\n",
    "    # Input: volume in Å³ and salt concentration in mol/L\n",
    "    volume_angstrom_cubed = float(input(\"Enter the volume in Å³: \"))\n",
    "    salt_concentration_mol_per_liter = float(input(\"Enter the salt concentration in mol/L: \"))\n",
    "\n",
    "    # Convert volume to liters\n",
    "    volume_liters = convert_volume_to_liters(volume_angstrom_cubed)\n",
    "\n",
    "    # Calculate the number of Na⁺ and Cl⁻ ions\n",
    "    num_na_ions, num_cl_ions = calculate_ions(volume_liters, salt_concentration_mol_per_liter)\n",
    "\n",
    "    # Output results\n",
    "    print(f\"Volume in liters: {volume_liters:.6e} L\")\n",
    "    print(f\"Number of Na⁺ ions: {num_na_ions}\")\n",
    "    print(f\"Number of Cl⁻ ions: {num_cl_ions}\")\n",
    "\n",
    "# Run the program\n",
    "if __name__ == \"__main__\":\n",
    "    main()"
   ]
  },
  {
   "cell_type": "code",
   "execution_count": null,
   "id": "da7deaed-825f-4a7a-8fcc-d97df51c7724",
   "metadata": {},
   "outputs": [],
   "source": []
  }
 ],
 "metadata": {
  "kernelspec": {
   "display_name": "Python 3 (ipykernel)",
   "language": "python",
   "name": "python3"
  },
  "language_info": {
   "codemirror_mode": {
    "name": "ipython",
    "version": 3
   },
   "file_extension": ".py",
   "mimetype": "text/x-python",
   "name": "python",
   "nbconvert_exporter": "python",
   "pygments_lexer": "ipython3",
   "version": "3.8.19"
  }
 },
 "nbformat": 4,
 "nbformat_minor": 5
}
